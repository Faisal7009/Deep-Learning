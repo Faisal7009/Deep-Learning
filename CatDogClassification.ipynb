{
 "cells": [
  {
   "cell_type": "code",
   "execution_count": 1,
   "id": "59568a98-34fa-410f-ade0-286a2c655aa2",
   "metadata": {},
   "outputs": [
    {
     "name": "stdout",
     "output_type": "stream",
     "text": [
      "['cats', 'dogs']\n"
     ]
    }
   ],
   "source": [
    "import os\n",
    "data_list = os.listdir(\"CatDog/training_set/training_set/\")\n",
    "print(data_list)"
   ]
  },
  {
   "cell_type": "code",
   "execution_count": 2,
   "id": "a4346372-b453-4543-a476-210952915611",
   "metadata": {},
   "outputs": [],
   "source": [
    "from tensorflow.keras import backend as K\n",
    "from tensorflow.keras.models import Model, load_model, Sequential\n",
    "from tensorflow.keras.layers import Dense, Dropout, Flatten\n",
    "from tensorflow.keras.applications.inception_resnet_v2 import InceptionResNetV2, preprocess_input\n",
    "from tensorflow.keras.applications.vgg16 import decode_predictions, VGG16, preprocess_input\n",
    "from tensorflow.keras.optimizers import Adam, RMSprop\n",
    "from tensorflow.keras.preprocessing.image import ImageDataGenerator\n",
    "from tensorflow.keras.callbacks import ModelCheckpoint\n",
    "import numpy as np\n",
    "import tensorflow as tf"
   ]
  },
  {
   "cell_type": "code",
   "execution_count": 3,
   "id": "f1fbcc58-e83f-453c-87d9-fa38a319166c",
   "metadata": {},
   "outputs": [],
   "source": [
    "train_datasets = \"CatDog/training_set/training_set/\"\n",
    "test_datasets = \"CatDog/test_set/test_set/\""
   ]
  },
  {
   "cell_type": "code",
   "execution_count": 4,
   "id": "184ad2b0-13ba-4a67-9294-45b91d18052e",
   "metadata": {},
   "outputs": [],
   "source": [
    "image_size = (150,150)\n",
    "number_class = len(data_list)\n",
    "batch_size = 10\n",
    "number_epochs = 10\n",
    "learningRate = 0.001"
   ]
  },
  {
   "cell_type": "code",
   "execution_count": 5,
   "id": "1e09e49c-f335-45a9-8a7a-02bddcab60c9",
   "metadata": {},
   "outputs": [],
   "source": [
    "train_dataset_generator = ImageDataGenerator(rescale = 1./255, #range = [0, 1]\n",
    "                                            rotation_range = 45,\n",
    "                                            featurewise_center = True,\n",
    "                                            featurewise_std_normalization = True,\n",
    "                                            height_shift_range=0.2,\n",
    "                                            width_shift_range=0.2,\n",
    "                                            shear_range = 0.2,\n",
    "                                            zoom_range = 0.2,\n",
    "                                            channel_shift_range = 20,\n",
    "                                            horizontal_flip = True,\n",
    "                                            vertical_flip = True,\n",
    "                                            validation_split = 0.2, \n",
    "                                            fill_mode=\"constant\")"
   ]
  },
  {
   "cell_type": "code",
   "execution_count": 6,
   "id": "dd052913-10c3-49a1-ba75-bbf9969feb3c",
   "metadata": {},
   "outputs": [
    {
     "name": "stdout",
     "output_type": "stream",
     "text": [
      "Found 6407 images belonging to 2 classes.\n"
     ]
    }
   ],
   "source": [
    "train_batches = train_dataset_generator.flow_from_directory(train_datasets,\n",
    "                                                           target_size= image_size,\n",
    "                                                           shuffle=True,\n",
    "                                                           batch_size=batch_size,\n",
    "                                                           subset='training',\n",
    "                                                           seed=42,\n",
    "                                                           class_mode = \"binary\")"
   ]
  },
  {
   "cell_type": "code",
   "execution_count": 7,
   "id": "974d8f91-d0c6-4cc4-94a7-68d20d21e178",
   "metadata": {},
   "outputs": [
    {
     "name": "stdout",
     "output_type": "stream",
     "text": [
      "Found 1601 images belonging to 2 classes.\n"
     ]
    }
   ],
   "source": [
    "validation_batches = train_dataset_generator.flow_from_directory(train_datasets,\n",
    "                                                           target_size= image_size,\n",
    "                                                           shuffle=True,\n",
    "                                                           batch_size=batch_size,\n",
    "                                                           subset='validation',\n",
    "                                                           seed=42,\n",
    "                                                           class_mode = \"binary\")"
   ]
  },
  {
   "cell_type": "code",
   "execution_count": 8,
   "id": "5b7b23e1-7daa-4a0f-9fcc-c5ef9c269cb8",
   "metadata": {},
   "outputs": [
    {
     "name": "stderr",
     "output_type": "stream",
     "text": [
      "2022-03-25 15:48:12.600953: I tensorflow/core/platform/cpu_feature_guard.cc:145] This TensorFlow binary is optimized with Intel(R) MKL-DNN to use the following CPU instructions in performance critical operations:  SSE4.1 SSE4.2 AVX\n",
      "To enable them in non-MKL-DNN operations, rebuild TensorFlow with the appropriate compiler flags.\n",
      "2022-03-25 15:48:12.603888: I tensorflow/core/common_runtime/process_util.cc:115] Creating new thread pool with default inter op setting: 4. Tune using inter_op_parallelism_threads for best performance.\n"
     ]
    }
   ],
   "source": [
    "vgg_model = VGG16(weights=\"imagenet\",\n",
    "                 include_top = False,\n",
    "                 input_shape=(150, 150, 3))\n",
    "\n",
    "vgg_model.trainable = False"
   ]
  },
  {
   "cell_type": "code",
   "execution_count": 9,
   "id": "0ab64459-e8d1-4c06-98ce-e7110c3aeb77",
   "metadata": {},
   "outputs": [],
   "source": [
    "model = Sequential()\n",
    "model.add(vgg_model)\n",
    "model.add(Flatten())\n",
    "model.add(Dense(256, activation = 'relu'))\n",
    "model.add(Dense(1, activation = 'sigmoid'))"
   ]
  },
  {
   "cell_type": "code",
   "execution_count": 10,
   "id": "89ab50b4-3683-4165-9807-51793e25db0f",
   "metadata": {},
   "outputs": [],
   "source": [
    "model.compile(loss = 'binary_crossentropy',\n",
    "             optimizer = Adam(learning_rate = learningRate), \n",
    "             metrics = ['accuracy'])"
   ]
  },
  {
   "cell_type": "code",
   "execution_count": 11,
   "id": "b9d765f8-bfaa-419d-b4ed-089acb91bd5a",
   "metadata": {},
   "outputs": [
    {
     "name": "stdout",
     "output_type": "stream",
     "text": [
      "Model: \"sequential\"\n",
      "_________________________________________________________________\n",
      "Layer (type)                 Output Shape              Param #   \n",
      "=================================================================\n",
      "vgg16 (Model)                (None, 4, 4, 512)         14714688  \n",
      "_________________________________________________________________\n",
      "flatten (Flatten)            (None, 8192)              0         \n",
      "_________________________________________________________________\n",
      "dense (Dense)                (None, 256)               2097408   \n",
      "_________________________________________________________________\n",
      "dense_1 (Dense)              (None, 1)                 257       \n",
      "=================================================================\n",
      "Total params: 16,812,353\n",
      "Trainable params: 2,097,665\n",
      "Non-trainable params: 14,714,688\n",
      "_________________________________________________________________\n"
     ]
    }
   ],
   "source": [
    "model.summary()"
   ]
  },
  {
   "cell_type": "code",
   "execution_count": 12,
   "id": "f7250b29-3ca3-48fa-b88c-73b128ab0495",
   "metadata": {},
   "outputs": [
    {
     "name": "stdout",
     "output_type": "stream",
     "text": [
      "641\n",
      "\n",
      "161\n"
     ]
    }
   ],
   "source": [
    "print(len(train_batches))\n",
    "print()\n",
    "print(len(validation_batches))"
   ]
  },
  {
   "cell_type": "code",
   "execution_count": 13,
   "id": "a6a6d55a-c8b4-4d80-9929-9aa9cc92dd52",
   "metadata": {},
   "outputs": [
    {
     "name": "stdout",
     "output_type": "stream",
     "text": [
      "6407\n",
      "\n",
      "1601\n"
     ]
    }
   ],
   "source": [
    "print(train_batches.n)\n",
    "print()\n",
    "print(validation_batches.n)"
   ]
  },
  {
   "cell_type": "code",
   "execution_count": 14,
   "id": "83fcc48f-7c96-44bc-94d9-ba420e68e770",
   "metadata": {},
   "outputs": [
    {
     "name": "stdout",
     "output_type": "stream",
     "text": [
      "10\n",
      "\n",
      "10\n"
     ]
    }
   ],
   "source": [
    "print(train_batches.batch_size)\n",
    "print()\n",
    "print(validation_batches.batch_size)"
   ]
  },
  {
   "cell_type": "code",
   "execution_count": 15,
   "id": "17551c54-2d06-446c-9a4f-7aeba975b51e",
   "metadata": {},
   "outputs": [],
   "source": [
    "train_step_size = train_batches.n // train_batches.batch_size\n",
    "validation_step_size = validation_batches.n //validation_batches.batch_size"
   ]
  },
  {
   "cell_type": "code",
   "execution_count": 16,
   "id": "c14c19c8-30cd-49cf-95ba-ce70be5c8af3",
   "metadata": {},
   "outputs": [
    {
     "name": "stderr",
     "output_type": "stream",
     "text": [
      "/opt/anaconda3/envs/Opencv/lib/python3.7/site-packages/keras_preprocessing/image/image_data_generator.py:716: UserWarning: This ImageDataGenerator specifies `featurewise_center`, but it hasn't been fit on any training data. Fit it first by calling `.fit(numpy_data)`.\n",
      "  warnings.warn('This ImageDataGenerator specifies '\n",
      "/opt/anaconda3/envs/Opencv/lib/python3.7/site-packages/keras_preprocessing/image/image_data_generator.py:724: UserWarning: This ImageDataGenerator specifies `featurewise_std_normalization`, but it hasn't been fit on any training data. Fit it first by calling `.fit(numpy_data)`.\n",
      "  warnings.warn('This ImageDataGenerator specifies '\n",
      "2022-03-25 15:50:57.134092: I tensorflow/core/kernels/data/shuffle_dataset_op.cc:143] Filling up shuffle buffer (this may take a while): 86 of 641\n",
      "2022-03-25 15:51:07.162635: I tensorflow/core/kernels/data/shuffle_dataset_op.cc:143] Filling up shuffle buffer (this may take a while): 174 of 641\n",
      "2022-03-25 15:51:17.121355: I tensorflow/core/kernels/data/shuffle_dataset_op.cc:143] Filling up shuffle buffer (this may take a while): 249 of 641\n",
      "2022-03-25 15:51:27.174236: I tensorflow/core/kernels/data/shuffle_dataset_op.cc:143] Filling up shuffle buffer (this may take a while): 323 of 641\n",
      "2022-03-25 15:51:37.208334: I tensorflow/core/kernels/data/shuffle_dataset_op.cc:143] Filling up shuffle buffer (this may take a while): 393 of 641\n",
      "2022-03-25 15:51:47.197827: I tensorflow/core/kernels/data/shuffle_dataset_op.cc:143] Filling up shuffle buffer (this may take a while): 432 of 641\n",
      "2022-03-25 15:51:57.116598: I tensorflow/core/kernels/data/shuffle_dataset_op.cc:143] Filling up shuffle buffer (this may take a while): 479 of 641\n",
      "2022-03-25 15:52:07.229831: I tensorflow/core/kernels/data/shuffle_dataset_op.cc:143] Filling up shuffle buffer (this may take a while): 520 of 641\n",
      "2022-03-25 15:52:17.050121: I tensorflow/core/kernels/data/shuffle_dataset_op.cc:143] Filling up shuffle buffer (this may take a while): 562 of 641\n",
      "2022-03-25 15:52:27.445508: I tensorflow/core/kernels/data/shuffle_dataset_op.cc:143] Filling up shuffle buffer (this may take a while): 605 of 641\n",
      "2022-03-25 15:53:27.670148: I tensorflow/core/kernels/data/shuffle_dataset_op.cc:143] Filling up shuffle buffer (this may take a while): 607 of 641\n",
      "2022-03-25 15:53:32.009998: I tensorflow/core/kernels/data/shuffle_dataset_op.cc:143] Filling up shuffle buffer (this may take a while): 608 of 641\n",
      "2022-03-25 15:53:34.445135: I tensorflow/core/kernels/data/shuffle_dataset_op.cc:143] Filling up shuffle buffer (this may take a while): 609 of 641\n",
      "2022-03-25 15:53:36.708962: I tensorflow/core/kernels/data/shuffle_dataset_op.cc:143] Filling up shuffle buffer (this may take a while): 610 of 641\n",
      "2022-03-25 15:53:38.367431: I tensorflow/core/kernels/data/shuffle_dataset_op.cc:143] Filling up shuffle buffer (this may take a while): 611 of 641\n",
      "2022-03-25 15:53:38.925708: I tensorflow/core/kernels/data/shuffle_dataset_op.cc:143] Filling up shuffle buffer (this may take a while): 612 of 641\n",
      "2022-03-25 15:53:39.999609: I tensorflow/core/kernels/data/shuffle_dataset_op.cc:143] Filling up shuffle buffer (this may take a while): 613 of 641\n",
      "2022-03-25 15:53:48.136443: I tensorflow/core/kernels/data/shuffle_dataset_op.cc:143] Filling up shuffle buffer (this may take a while): 615 of 641\n",
      "2022-03-25 15:53:57.397963: I tensorflow/core/kernels/data/shuffle_dataset_op.cc:143] Filling up shuffle buffer (this may take a while): 631 of 641\n",
      "2022-03-25 15:54:06.626643: I tensorflow/core/kernels/data/shuffle_dataset_op.cc:193] Shuffle buffer filled.\n"
     ]
    },
    {
     "name": "stdout",
     "output_type": "stream",
     "text": [
      "Train for 640 steps, validate for 160 steps\n",
      "Epoch 1/10\n"
     ]
    },
    {
     "name": "stderr",
     "output_type": "stream",
     "text": [
      "/opt/anaconda3/envs/Opencv/lib/python3.7/site-packages/keras_preprocessing/image/image_data_generator.py:716: UserWarning: This ImageDataGenerator specifies `featurewise_center`, but it hasn't been fit on any training data. Fit it first by calling `.fit(numpy_data)`.\n",
      "  warnings.warn('This ImageDataGenerator specifies '\n",
      "/opt/anaconda3/envs/Opencv/lib/python3.7/site-packages/keras_preprocessing/image/image_data_generator.py:724: UserWarning: This ImageDataGenerator specifies `featurewise_std_normalization`, but it hasn't been fit on any training data. Fit it first by calling `.fit(numpy_data)`.\n",
      "  warnings.warn('This ImageDataGenerator specifies '\n",
      "2022-03-25 15:54:23.590636: I tensorflow/core/kernels/data/shuffle_dataset_op.cc:143] Filling up shuffle buffer (this may take a while): 83 of 641\n",
      "2022-03-25 15:54:33.566135: I tensorflow/core/kernels/data/shuffle_dataset_op.cc:143] Filling up shuffle buffer (this may take a while): 168 of 641\n",
      "2022-03-25 15:54:43.650727: I tensorflow/core/kernels/data/shuffle_dataset_op.cc:143] Filling up shuffle buffer (this may take a while): 246 of 641\n",
      "2022-03-25 15:54:53.650712: I tensorflow/core/kernels/data/shuffle_dataset_op.cc:143] Filling up shuffle buffer (this may take a while): 310 of 641\n",
      "2022-03-25 15:55:03.685034: I tensorflow/core/kernels/data/shuffle_dataset_op.cc:143] Filling up shuffle buffer (this may take a while): 368 of 641\n",
      "2022-03-25 15:55:13.580851: I tensorflow/core/kernels/data/shuffle_dataset_op.cc:143] Filling up shuffle buffer (this may take a while): 421 of 641\n",
      "2022-03-25 15:55:23.588883: I tensorflow/core/kernels/data/shuffle_dataset_op.cc:143] Filling up shuffle buffer (this may take a while): 477 of 641\n",
      "2022-03-25 15:55:33.557895: I tensorflow/core/kernels/data/shuffle_dataset_op.cc:143] Filling up shuffle buffer (this may take a while): 540 of 641\n",
      "2022-03-25 15:55:43.637445: I tensorflow/core/kernels/data/shuffle_dataset_op.cc:143] Filling up shuffle buffer (this may take a while): 614 of 641\n",
      "2022-03-25 15:55:47.151708: I tensorflow/core/kernels/data/shuffle_dataset_op.cc:193] Shuffle buffer filled.\n"
     ]
    },
    {
     "name": "stdout",
     "output_type": "stream",
     "text": [
      "640/640 [==============================] - 7406s 12s/step - loss: 0.5667 - accuracy: 0.7383 - val_loss: 0.4635 - val_accuracy: 0.7750\n",
      "Epoch 2/10\n"
     ]
    },
    {
     "name": "stderr",
     "output_type": "stream",
     "text": [
      "2022-03-25 17:57:45.487956: I tensorflow/core/kernels/data/shuffle_dataset_op.cc:143] Filling up shuffle buffer (this may take a while): 91 of 641\n",
      "2022-03-25 17:57:55.413315: I tensorflow/core/kernels/data/shuffle_dataset_op.cc:143] Filling up shuffle buffer (this may take a while): 180 of 641\n",
      "2022-03-25 17:58:05.413803: I tensorflow/core/kernels/data/shuffle_dataset_op.cc:143] Filling up shuffle buffer (this may take a while): 265 of 641\n",
      "2022-03-25 17:58:15.409748: I tensorflow/core/kernels/data/shuffle_dataset_op.cc:143] Filling up shuffle buffer (this may take a while): 341 of 641\n",
      "2022-03-25 17:58:25.521428: I tensorflow/core/kernels/data/shuffle_dataset_op.cc:143] Filling up shuffle buffer (this may take a while): 405 of 641\n",
      "2022-03-25 17:58:35.422478: I tensorflow/core/kernels/data/shuffle_dataset_op.cc:143] Filling up shuffle buffer (this may take a while): 449 of 641\n",
      "2022-03-25 17:58:45.462605: I tensorflow/core/kernels/data/shuffle_dataset_op.cc:143] Filling up shuffle buffer (this may take a while): 499 of 641\n",
      "2022-03-25 17:58:55.503951: I tensorflow/core/kernels/data/shuffle_dataset_op.cc:143] Filling up shuffle buffer (this may take a while): 546 of 641\n",
      "2022-03-25 17:59:05.466392: I tensorflow/core/kernels/data/shuffle_dataset_op.cc:143] Filling up shuffle buffer (this may take a while): 614 of 641\n",
      "2022-03-25 17:59:09.412375: I tensorflow/core/kernels/data/shuffle_dataset_op.cc:193] Shuffle buffer filled.\n"
     ]
    },
    {
     "name": "stdout",
     "output_type": "stream",
     "text": [
      "640/640 [==============================] - 96648s 151s/step - loss: 0.4624 - accuracy: 0.7740 - val_loss: 0.4552 - val_accuracy: 0.7731\n",
      "Epoch 3/10\n"
     ]
    },
    {
     "name": "stderr",
     "output_type": "stream",
     "text": [
      "2022-03-26 20:48:33.349929: I tensorflow/core/kernels/data/shuffle_dataset_op.cc:143] Filling up shuffle buffer (this may take a while): 91 of 641\n",
      "2022-03-26 20:48:43.325151: I tensorflow/core/kernels/data/shuffle_dataset_op.cc:143] Filling up shuffle buffer (this may take a while): 182 of 641\n",
      "2022-03-26 20:48:53.344157: I tensorflow/core/kernels/data/shuffle_dataset_op.cc:143] Filling up shuffle buffer (this may take a while): 273 of 641\n",
      "2022-03-26 20:49:03.270421: I tensorflow/core/kernels/data/shuffle_dataset_op.cc:143] Filling up shuffle buffer (this may take a while): 361 of 641\n",
      "2022-03-26 20:49:13.393429: I tensorflow/core/kernels/data/shuffle_dataset_op.cc:143] Filling up shuffle buffer (this may take a while): 438 of 641\n",
      "2022-03-26 20:49:23.325757: I tensorflow/core/kernels/data/shuffle_dataset_op.cc:143] Filling up shuffle buffer (this may take a while): 513 of 641\n",
      "2022-03-26 20:49:33.322448: I tensorflow/core/kernels/data/shuffle_dataset_op.cc:143] Filling up shuffle buffer (this may take a while): 579 of 641\n",
      "2022-03-26 20:49:43.348345: I tensorflow/core/kernels/data/shuffle_dataset_op.cc:143] Filling up shuffle buffer (this may take a while): 637 of 641\n",
      "2022-03-26 20:49:43.821202: I tensorflow/core/kernels/data/shuffle_dataset_op.cc:193] Shuffle buffer filled.\n"
     ]
    },
    {
     "name": "stdout",
     "output_type": "stream",
     "text": [
      "640/640 [==============================] - 90003s 141s/step - loss: 0.4268 - accuracy: 0.7994 - val_loss: 0.4371 - val_accuracy: 0.7844\n",
      "Epoch 4/10\n"
     ]
    },
    {
     "name": "stderr",
     "output_type": "stream",
     "text": [
      "2022-03-27 21:48:36.150740: I tensorflow/core/kernels/data/shuffle_dataset_op.cc:143] Filling up shuffle buffer (this may take a while): 88 of 641\n",
      "2022-03-27 21:48:46.066821: I tensorflow/core/kernels/data/shuffle_dataset_op.cc:143] Filling up shuffle buffer (this may take a while): 166 of 641\n",
      "2022-03-27 21:48:56.070112: I tensorflow/core/kernels/data/shuffle_dataset_op.cc:143] Filling up shuffle buffer (this may take a while): 242 of 641\n",
      "2022-03-27 21:49:06.133280: I tensorflow/core/kernels/data/shuffle_dataset_op.cc:143] Filling up shuffle buffer (this may take a while): 322 of 641\n",
      "2022-03-27 21:49:16.119945: I tensorflow/core/kernels/data/shuffle_dataset_op.cc:143] Filling up shuffle buffer (this may take a while): 392 of 641\n",
      "2022-03-27 21:49:26.058026: I tensorflow/core/kernels/data/shuffle_dataset_op.cc:143] Filling up shuffle buffer (this may take a while): 458 of 641\n",
      "2022-03-27 21:49:36.242111: I tensorflow/core/kernels/data/shuffle_dataset_op.cc:143] Filling up shuffle buffer (this may take a while): 518 of 641\n",
      "2022-03-27 21:49:46.194676: I tensorflow/core/kernels/data/shuffle_dataset_op.cc:143] Filling up shuffle buffer (this may take a while): 563 of 641\n",
      "2022-03-27 21:49:56.093310: I tensorflow/core/kernels/data/shuffle_dataset_op.cc:143] Filling up shuffle buffer (this may take a while): 614 of 641\n",
      "2022-03-27 21:50:08.892867: I tensorflow/core/kernels/data/shuffle_dataset_op.cc:143] Filling up shuffle buffer (this may take a while): 625 of 641\n",
      "2022-03-27 21:50:16.619473: I tensorflow/core/kernels/data/shuffle_dataset_op.cc:143] Filling up shuffle buffer (this may take a while): 628 of 641\n",
      "2022-03-27 21:50:20.150053: I tensorflow/core/kernels/data/shuffle_dataset_op.cc:193] Shuffle buffer filled.\n"
     ]
    },
    {
     "name": "stdout",
     "output_type": "stream",
     "text": [
      "640/640 [==============================] - 4598s 7s/step - loss: 0.4246 - accuracy: 0.7982 - val_loss: 0.4262 - val_accuracy: 0.7900\n",
      "Epoch 5/10\n"
     ]
    },
    {
     "name": "stderr",
     "output_type": "stream",
     "text": [
      "2022-03-27 23:05:13.723938: I tensorflow/core/kernels/data/shuffle_dataset_op.cc:143] Filling up shuffle buffer (this may take a while): 88 of 641\n",
      "2022-03-27 23:05:23.659620: I tensorflow/core/kernels/data/shuffle_dataset_op.cc:143] Filling up shuffle buffer (this may take a while): 173 of 641\n",
      "2022-03-27 23:05:33.680148: I tensorflow/core/kernels/data/shuffle_dataset_op.cc:143] Filling up shuffle buffer (this may take a while): 260 of 641\n",
      "2022-03-27 23:05:43.699261: I tensorflow/core/kernels/data/shuffle_dataset_op.cc:143] Filling up shuffle buffer (this may take a while): 347 of 641\n",
      "2022-03-27 23:05:53.633077: I tensorflow/core/kernels/data/shuffle_dataset_op.cc:143] Filling up shuffle buffer (this may take a while): 417 of 641\n",
      "2022-03-27 23:06:03.689563: I tensorflow/core/kernels/data/shuffle_dataset_op.cc:143] Filling up shuffle buffer (this may take a while): 485 of 641\n",
      "2022-03-27 23:06:13.704025: I tensorflow/core/kernels/data/shuffle_dataset_op.cc:143] Filling up shuffle buffer (this may take a while): 537 of 641\n",
      "2022-03-27 23:06:23.683218: I tensorflow/core/kernels/data/shuffle_dataset_op.cc:143] Filling up shuffle buffer (this may take a while): 581 of 641\n",
      "2022-03-27 23:06:33.663774: I tensorflow/core/kernels/data/shuffle_dataset_op.cc:143] Filling up shuffle buffer (this may take a while): 619 of 641\n",
      "2022-03-27 23:06:37.236261: I tensorflow/core/kernels/data/shuffle_dataset_op.cc:193] Shuffle buffer filled.\n"
     ]
    },
    {
     "name": "stdout",
     "output_type": "stream",
     "text": [
      "640/640 [==============================] - 38004s 59s/step - loss: 0.4367 - accuracy: 0.7965 - val_loss: 0.3999 - val_accuracy: 0.8100\n",
      "Epoch 6/10\n"
     ]
    },
    {
     "name": "stderr",
     "output_type": "stream",
     "text": [
      "2022-03-28 09:38:37.546112: I tensorflow/core/kernels/data/shuffle_dataset_op.cc:143] Filling up shuffle buffer (this may take a while): 84 of 641\n",
      "2022-03-28 09:38:47.536561: I tensorflow/core/kernels/data/shuffle_dataset_op.cc:143] Filling up shuffle buffer (this may take a while): 163 of 641\n",
      "2022-03-28 09:38:57.431582: I tensorflow/core/kernels/data/shuffle_dataset_op.cc:143] Filling up shuffle buffer (this may take a while): 244 of 641\n",
      "2022-03-28 09:39:07.473868: I tensorflow/core/kernels/data/shuffle_dataset_op.cc:143] Filling up shuffle buffer (this may take a while): 326 of 641\n",
      "2022-03-28 09:39:17.442792: I tensorflow/core/kernels/data/shuffle_dataset_op.cc:143] Filling up shuffle buffer (this may take a while): 388 of 641\n",
      "2022-03-28 09:39:27.449571: I tensorflow/core/kernels/data/shuffle_dataset_op.cc:143] Filling up shuffle buffer (this may take a while): 461 of 641\n",
      "2022-03-28 09:39:40.540960: I tensorflow/core/kernels/data/shuffle_dataset_op.cc:143] Filling up shuffle buffer (this may take a while): 494 of 641\n",
      "2022-03-28 09:39:51.742485: I tensorflow/core/kernels/data/shuffle_dataset_op.cc:143] Filling up shuffle buffer (this may take a while): 495 of 641\n",
      "2022-03-28 09:39:57.481846: I tensorflow/core/kernels/data/shuffle_dataset_op.cc:143] Filling up shuffle buffer (this may take a while): 502 of 641\n",
      "2022-03-28 09:40:08.092316: I tensorflow/core/kernels/data/shuffle_dataset_op.cc:143] Filling up shuffle buffer (this may take a while): 530 of 641\n",
      "2022-03-28 09:40:17.915256: I tensorflow/core/kernels/data/shuffle_dataset_op.cc:143] Filling up shuffle buffer (this may take a while): 578 of 641\n",
      "2022-03-28 09:40:27.627606: I tensorflow/core/kernels/data/shuffle_dataset_op.cc:143] Filling up shuffle buffer (this may take a while): 634 of 641\n",
      "2022-03-28 09:40:29.189063: I tensorflow/core/kernels/data/shuffle_dataset_op.cc:193] Shuffle buffer filled.\n"
     ]
    },
    {
     "name": "stdout",
     "output_type": "stream",
     "text": [
      "640/640 [==============================] - 3749s 6s/step - loss: 0.4113 - accuracy: 0.8096 - val_loss: 0.4059 - val_accuracy: 0.8069\n",
      "Epoch 7/10\n"
     ]
    },
    {
     "name": "stderr",
     "output_type": "stream",
     "text": [
      "2022-03-28 10:41:06.092902: I tensorflow/core/kernels/data/shuffle_dataset_op.cc:143] Filling up shuffle buffer (this may take a while): 84 of 641\n",
      "2022-03-28 10:41:16.140565: I tensorflow/core/kernels/data/shuffle_dataset_op.cc:143] Filling up shuffle buffer (this may take a while): 168 of 641\n",
      "2022-03-28 10:41:26.179056: I tensorflow/core/kernels/data/shuffle_dataset_op.cc:143] Filling up shuffle buffer (this may take a while): 250 of 641\n",
      "2022-03-28 10:41:36.174995: I tensorflow/core/kernels/data/shuffle_dataset_op.cc:143] Filling up shuffle buffer (this may take a while): 332 of 641\n",
      "2022-03-28 10:41:46.088729: I tensorflow/core/kernels/data/shuffle_dataset_op.cc:143] Filling up shuffle buffer (this may take a while): 413 of 641\n",
      "2022-03-28 10:41:56.233729: I tensorflow/core/kernels/data/shuffle_dataset_op.cc:143] Filling up shuffle buffer (this may take a while): 485 of 641\n",
      "2022-03-28 10:42:06.128762: I tensorflow/core/kernels/data/shuffle_dataset_op.cc:143] Filling up shuffle buffer (this may take a while): 550 of 641\n",
      "2022-03-28 10:42:16.135253: I tensorflow/core/kernels/data/shuffle_dataset_op.cc:143] Filling up shuffle buffer (this may take a while): 614 of 641\n",
      "2022-03-28 10:42:24.456367: I tensorflow/core/kernels/data/shuffle_dataset_op.cc:193] Shuffle buffer filled.\n"
     ]
    },
    {
     "name": "stdout",
     "output_type": "stream",
     "text": [
      "640/640 [==============================] - 3690s 6s/step - loss: 0.4110 - accuracy: 0.8090 - val_loss: 0.4106 - val_accuracy: 0.8112\n",
      "Epoch 8/10\n"
     ]
    },
    {
     "name": "stderr",
     "output_type": "stream",
     "text": [
      "2022-03-28 11:42:35.973020: I tensorflow/core/kernels/data/shuffle_dataset_op.cc:143] Filling up shuffle buffer (this may take a while): 87 of 641\n",
      "2022-03-28 11:42:45.923091: I tensorflow/core/kernels/data/shuffle_dataset_op.cc:143] Filling up shuffle buffer (this may take a while): 168 of 641\n",
      "2022-03-28 11:42:55.931538: I tensorflow/core/kernels/data/shuffle_dataset_op.cc:143] Filling up shuffle buffer (this may take a while): 241 of 641\n",
      "2022-03-28 11:43:05.977727: I tensorflow/core/kernels/data/shuffle_dataset_op.cc:143] Filling up shuffle buffer (this may take a while): 319 of 641\n",
      "2022-03-28 11:43:15.907627: I tensorflow/core/kernels/data/shuffle_dataset_op.cc:143] Filling up shuffle buffer (this may take a while): 397 of 641\n",
      "2022-03-28 11:43:25.969875: I tensorflow/core/kernels/data/shuffle_dataset_op.cc:143] Filling up shuffle buffer (this may take a while): 469 of 641\n",
      "2022-03-28 11:43:36.028068: I tensorflow/core/kernels/data/shuffle_dataset_op.cc:143] Filling up shuffle buffer (this may take a while): 518 of 641\n",
      "2022-03-28 11:43:46.044467: I tensorflow/core/kernels/data/shuffle_dataset_op.cc:143] Filling up shuffle buffer (this may take a while): 572 of 641\n",
      "2022-03-28 11:43:55.485635: I tensorflow/core/kernels/data/shuffle_dataset_op.cc:193] Shuffle buffer filled.\n"
     ]
    },
    {
     "name": "stdout",
     "output_type": "stream",
     "text": [
      "640/640 [==============================] - 3866s 6s/step - loss: 0.4067 - accuracy: 0.8126 - val_loss: 0.3932 - val_accuracy: 0.8281\n",
      "Epoch 9/10\n"
     ]
    },
    {
     "name": "stderr",
     "output_type": "stream",
     "text": [
      "2022-03-28 12:47:02.164738: I tensorflow/core/kernels/data/shuffle_dataset_op.cc:143] Filling up shuffle buffer (this may take a while): 83 of 641\n",
      "2022-03-28 12:47:12.101889: I tensorflow/core/kernels/data/shuffle_dataset_op.cc:143] Filling up shuffle buffer (this may take a while): 152 of 641\n",
      "2022-03-28 12:47:22.205178: I tensorflow/core/kernels/data/shuffle_dataset_op.cc:143] Filling up shuffle buffer (this may take a while): 229 of 641\n",
      "2022-03-28 12:47:32.110425: I tensorflow/core/kernels/data/shuffle_dataset_op.cc:143] Filling up shuffle buffer (this may take a while): 304 of 641\n",
      "2022-03-28 12:47:42.106670: I tensorflow/core/kernels/data/shuffle_dataset_op.cc:143] Filling up shuffle buffer (this may take a while): 379 of 641\n",
      "2022-03-28 12:47:52.188234: I tensorflow/core/kernels/data/shuffle_dataset_op.cc:143] Filling up shuffle buffer (this may take a while): 431 of 641\n",
      "2022-03-28 12:48:02.192130: I tensorflow/core/kernels/data/shuffle_dataset_op.cc:143] Filling up shuffle buffer (this may take a while): 476 of 641\n",
      "2022-03-28 12:48:12.229051: I tensorflow/core/kernels/data/shuffle_dataset_op.cc:143] Filling up shuffle buffer (this may take a while): 523 of 641\n",
      "2022-03-28 12:48:22.131476: I tensorflow/core/kernels/data/shuffle_dataset_op.cc:143] Filling up shuffle buffer (this may take a while): 594 of 641\n",
      "2022-03-28 12:48:28.550577: I tensorflow/core/kernels/data/shuffle_dataset_op.cc:193] Shuffle buffer filled.\n"
     ]
    },
    {
     "name": "stdout",
     "output_type": "stream",
     "text": [
      "640/640 [==============================] - 3836s 6s/step - loss: 0.4057 - accuracy: 0.8119 - val_loss: 0.3901 - val_accuracy: 0.8275\n",
      "Epoch 10/10\n"
     ]
    },
    {
     "name": "stderr",
     "output_type": "stream",
     "text": [
      "2022-03-28 13:50:57.698918: I tensorflow/core/kernels/data/shuffle_dataset_op.cc:143] Filling up shuffle buffer (this may take a while): 88 of 641\n",
      "2022-03-28 13:51:07.694087: I tensorflow/core/kernels/data/shuffle_dataset_op.cc:143] Filling up shuffle buffer (this may take a while): 177 of 641\n",
      "2022-03-28 13:51:17.716612: I tensorflow/core/kernels/data/shuffle_dataset_op.cc:143] Filling up shuffle buffer (this may take a while): 239 of 641\n",
      "2022-03-28 13:51:27.693613: I tensorflow/core/kernels/data/shuffle_dataset_op.cc:143] Filling up shuffle buffer (this may take a while): 319 of 641\n",
      "2022-03-28 13:51:37.712722: I tensorflow/core/kernels/data/shuffle_dataset_op.cc:143] Filling up shuffle buffer (this may take a while): 393 of 641\n",
      "2022-03-28 13:51:47.832982: I tensorflow/core/kernels/data/shuffle_dataset_op.cc:143] Filling up shuffle buffer (this may take a while): 441 of 641\n",
      "2022-03-28 13:51:57.933695: I tensorflow/core/kernels/data/shuffle_dataset_op.cc:143] Filling up shuffle buffer (this may take a while): 482 of 641\n",
      "2022-03-28 13:52:07.727034: I tensorflow/core/kernels/data/shuffle_dataset_op.cc:143] Filling up shuffle buffer (this may take a while): 533 of 641\n",
      "2022-03-28 13:52:17.691965: I tensorflow/core/kernels/data/shuffle_dataset_op.cc:143] Filling up shuffle buffer (this may take a while): 600 of 641\n",
      "2022-03-28 13:52:23.361477: I tensorflow/core/kernels/data/shuffle_dataset_op.cc:193] Shuffle buffer filled.\n"
     ]
    },
    {
     "name": "stdout",
     "output_type": "stream",
     "text": [
      "640/640 [==============================] - 3906s 6s/step - loss: 0.4044 - accuracy: 0.8077 - val_loss: 0.4084 - val_accuracy: 0.7931\n"
     ]
    }
   ],
   "source": [
    "model_runing_history = model.fit(train_batches, \n",
    "                                steps_per_epoch = train_step_size,\n",
    "                                validation_data=validation_batches,\n",
    "                                validation_steps=validation_step_size,\n",
    "                                epochs = number_epochs)"
   ]
  },
  {
   "cell_type": "code",
   "execution_count": 20,
   "id": "1f458b78-2b58-44d0-812a-1339382b3bb0",
   "metadata": {},
   "outputs": [],
   "source": [
    "import matplotlib.pyplot as plt\n",
    "%matplotlib inline\n",
    "\n",
    "def acc_lossPLT(model_data, epochs):\n",
    "\n",
    "    acc = model_data.history['accuracy']\n",
    "    loss = model_data.history['loss']\n",
    "    val_acc = model_data.history['val_accuracy']\n",
    "    val_loss = model_data.history['val_loss']\n",
    "    \n",
    "    plt.figure(figsize = (10, 5))\n",
    "    plt.subplot(121)\n",
    "    plt.plot(range(1, epochs), acc[1:], label = 'Training Accuracy')\n",
    "    plt.plot(range(1, epochs), val_acc[1:], label = 'Validation Accuracy')\n",
    "    plt.title(\"Accuracy Over\" + str(epochs) + \" Epochs \" , size = 15)\n",
    "    plt.tight_layout()\n",
    "    plt.legend()\n",
    "    plt.grid(True)\n",
    "    \n",
    "    plt.figure(figsize = (10, 5))\n",
    "    plt.subplot(122)\n",
    "    plt.plot(range(1, epochs), loss[1:], label = 'Training loss')\n",
    "    plt.plot(range(1, epochs), val_loss[1:], label = 'Validation loss')\n",
    "    plt.title(\"Loss Over\" + str(epochs) + \" Epochs \" , size = 15)\n",
    "    plt.tight_layout()\n",
    "    plt.legend()\n",
    "    plt.grid(True)\n",
    "\n",
    "    plt.show()"
   ]
  },
  {
   "cell_type": "code",
   "execution_count": 21,
   "id": "8b426337-ea09-4183-ac58-88e5b5417868",
   "metadata": {},
   "outputs": [
    {
     "data": {
      "image/png": "[encoded data removed]",
      "text/plain": [
       "<Figure size 720x360 with 1 Axes>"
      ]
     },
     "metadata": {
      "needs_background": "light"
     },
     "output_type": "display_data"
    },
    {
     "data": {
      "image/png": "[encoded data removed]",
      "text/plain": [
       "<Figure size 720x360 with 1 Axes>"
      ]
     },
     "metadata": {
      "needs_background": "light"
     },
     "output_type": "display_data"
    }
   ],
   "source": [
    "acc_lossPLT(model_runing_history, 10)"
   ]
  },
  {
   "cell_type": "code",
   "execution_count": 22,
   "id": "4b0d7ce3-fb11-48f6-bce2-10262bdd861f",
   "metadata": {},
   "outputs": [],
   "source": [
    "model.save(\"ClassificationModel.h5\")"
   ]
  },
  {
   "cell_type": "code",
   "execution_count": 23,
   "id": "ccb90ae8-2a19-4728-8045-b9b092e51589",
   "metadata": {},
   "outputs": [
    {
     "name": "stdout",
     "output_type": "stream",
     "text": [
      "Found 2023 images belonging to 2 classes.\n"
     ]
    }
   ],
   "source": [
    "test_datagenrator = ImageDataGenerator(rescale=1./255)\n",
    "test_batches = test_datagenrator.flow_from_directory(test_datasets,\n",
    "                                       target_size= image_size,\n",
    "                                       shuffle=False,\n",
    "                                       batch_size=1,\n",
    "                                       seed=42,\n",
    "                                       class_mode = \"binary\")\n",
    "\n",
    "test_batches.reset()"
   ]
  },
  {
   "cell_type": "code",
   "execution_count": 24,
   "id": "891c517b-62e7-4cf8-9c31-0f5f16acac65",
   "metadata": {},
   "outputs": [
    {
     "name": "stdout",
     "output_type": "stream",
     "text": [
      "203/203 [==============================] - 100s 494ms/step - loss: 0.5534 - accuracy: 0.7438\n"
     ]
    }
   ],
   "source": [
    "test_batches.reset()\n",
    "random_data = model.evaluate(test_batches,\n",
    "                            steps = int(np.ceil(len(test_batches) / batch_size)), \n",
    "                            use_multiprocessing = False,\n",
    "                            verbose = 1,\n",
    "                            workers = 1)                             "
   ]
  },
  {
   "cell_type": "code",
   "execution_count": 25,
   "id": "d6ad9ae9-ee78-4d7b-b316-cb93f1d3104d",
   "metadata": {},
   "outputs": [
    {
     "name": "stdout",
     "output_type": "stream",
     "text": [
      "TestDatasets Loss:  0.5534181584049481\n",
      "TestDatasets Accuracy:  0.74384236\n"
     ]
    }
   ],
   "source": [
    "print(\"TestDatasets Loss: \", random_data[0])\n",
    "print(\"TestDatasets Accuracy: \", random_data[1])"
   ]
  },
  {
   "cell_type": "code",
   "execution_count": 27,
   "id": "c58567ab-84ec-46c3-b96f-0c8a03c2400c",
   "metadata": {},
   "outputs": [
    {
     "name": "stdout",
     "output_type": "stream",
     "text": [
      "2023/2023 [==============================] - 985s 487ms/step\n"
     ]
    }
   ],
   "source": [
    "test_batches.reset()\n",
    "predictted = model.predict(test_batches,\n",
    "                           batch_size = None, \n",
    "                           verbose=1)"
   ]
  },
  {
   "cell_type": "code",
   "execution_count": null,
   "id": "b0fb84d3-2bd6-4679-b2f5-1fd64ae7d2a8",
   "metadata": {},
   "outputs": [],
   "source": []
  }
 ],
 "metadata": {
  "kernelspec": {
   "display_name": "Python 3 (ipykernel)",
   "language": "python",
   "name": "python3"
  },
  "language_info": {
   "codemirror_mode": {
    "name": "ipython",
    "version": 3
   },
   "file_extension": ".py",
   "mimetype": "text/x-python",
   "name": "python",
   "nbconvert_exporter": "python",
   "pygments_lexer": "ipython3",
   "version": "3.7.11"
  }
 },
 "nbformat": 4,
 "nbformat_minor": 5
}
